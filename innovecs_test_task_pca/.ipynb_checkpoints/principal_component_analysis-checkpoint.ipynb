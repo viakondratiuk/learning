{
 "cells": [
  {
   "cell_type": "code",
   "execution_count": 1,
   "metadata": {
    "collapsed": false
   },
   "outputs": [
    {
     "ename": "IndentationError",
     "evalue": "expected an indented block (<ipython-input-1-0f322a35029c>, line 81)",
     "output_type": "error",
     "traceback": [
      "\u001b[0;36m  File \u001b[0;32m\"<ipython-input-1-0f322a35029c>\"\u001b[0;36m, line \u001b[0;32m81\u001b[0m\n\u001b[0;31m    #     unittest.main(argv=['first-arg-is-ignored'], exit=False)\u001b[0m\n\u001b[0m                                                                  ^\u001b[0m\n\u001b[0;31mIndentationError\u001b[0m\u001b[0;31m:\u001b[0m expected an indented block\n"
     ]
    }
   ],
   "source": [
    "import numpy as np\n",
    "import pandas as pd\n",
    "import glob\n",
    "import unittest\n",
    "\n",
    "def get_data(path):\n",
    "    files = glob.glob(os.path.join(path, \"*.csv\"))\n",
    "    frames = (pd.read_csv(f) for f in files)\n",
    "    concatenated = pd.concat(frames, ignore_index=True)\n",
    "    del concatenated[\"Date\"]\n",
    "    print(concatenated.head(5))\n",
    "    \n",
    "    return concatenated.as_matrix().T\n",
    "\n",
    "def calc_mean_vector(numpy_matrix):\n",
    "    means = []\n",
    "    for i in range(6):\n",
    "        means.append([np.mean(numpy_matrix[i,:])])\n",
    "    \n",
    "    return np.array(means)\n",
    "\n",
    "def calc_scatter_matrix(mean_vector, numpy_matrix):\n",
    "    scatter_matrix = np.zeros((6,6))\n",
    "    for i in range(numpy_matrix.shape[1]):\n",
    "        scatter_matrix += (numpy_matrix[:,i].reshape(6,1) - mean_vector).dot((numpy_matrix[:,i].reshape(6,1) - mean_vector).T)\n",
    "    \n",
    "    return scatter_matrix\n",
    "\n",
    "def calc_cov_matrix(numpy_matrix):\n",
    "    return np.cov([numpy_matrix[0,:], \n",
    "                      numpy_matrix[1,:], \n",
    "                      numpy_matrix[2,:], \n",
    "                      numpy_matrix[3,:], \n",
    "                      numpy_matrix[4,:], \n",
    "                      numpy_matrix[5,:]])\n",
    "\n",
    "def calc_eig_vectors_values(cov_matrix):\n",
    "    return np.linalg.eig(cov_matrix)   \n",
    "\n",
    "def apply_eig_reduction(numpy_matrix):\n",
    "    def reduce_space(eig_val, eig_vec, dim):\n",
    "        eig_pairs = [(np.abs(eig_val[i]), eig_vec[:,i]) for i in range(len(eig_val))]\n",
    "        eig_pairs.sort(key=lambda x: x[0], reverse=True)\n",
    "        matrix_w = np.hstack((eig_pairs[i][1].reshape(6,1) for i in range(dim)))\n",
    "        return matrix_w.T.dot(numpy_matrix) \n",
    "\n",
    "    \n",
    "    mean_vector = calc_mean_vector(numpy_matrix)\n",
    "    cov_matrix = calc_cov_matrix(numpy_matrix)\n",
    "    eig_val, eig_vec = calc_eig_vectors_values(cov_matrix)\n",
    "    \n",
    "    return reduce_space(eig_val, eig_vec, 2)\n",
    "\n",
    "def start_routine(path):\n",
    "    numpy_matrix = get_data(path)\n",
    "#     return apply_eig_reduction(numpy_matrix)\n",
    "\n",
    "start_routine(\"price_csv\")\n",
    "\n",
    "class PCATest(unittest.TestCase):\n",
    "    \n",
    "    def setUp(self):\n",
    "        self.data = np.array([[i for i in range(6)], \n",
    "                              [i + 1 for i in range(6)], \n",
    "                              [i + 2 for i in range(6)], \n",
    "                              [i + 3 for i in range(6)], \n",
    "                              [i + 4 for i in range(6)], \n",
    "                              [i + 5 for i in range(6)]])\n",
    "        self.means = np.array([[sum(self.data[i,:])/6] for i in range(6)])\n",
    "        self.reduced = np.array([[6.12372436, 8.5732141, 11.02270384, 13.47219359, 15.92168333, 18.37117307], \n",
    "                                 [-2.80545519, -2.80545519, -2.80545519, -2.80545519, -2.80545519, -2.80545519]])\n",
    "        \n",
    "    def test_mean_vector(self):\n",
    "        np.testing.assert_almost_equal(self.means, calc_mean_vector(self.data), err_msg=\"Means are not equal\")\n",
    "        \n",
    "    def test_eig_reduction(self):\n",
    "        np.testing.assert_almost_equal(self.reduced, apply_eig_reduction(self.data), err_msg=\"Reduction is incorrect\")\n",
    "\n",
    "\n",
    "if __name__ == '__main__':\n",
    "#     unittest.main(argv=['first-arg-is-ignored'], exit=False)"
   ]
  }
 ],
 "metadata": {
  "anaconda-cloud": {},
  "kernelspec": {
   "display_name": "Python [conda root]",
   "language": "python",
   "name": "conda-root-py"
  },
  "language_info": {
   "codemirror_mode": {
    "name": "ipython",
    "version": 2
   },
   "file_extension": ".py",
   "mimetype": "text/x-python",
   "name": "python",
   "nbconvert_exporter": "python",
   "pygments_lexer": "ipython2",
   "version": "2.7.12"
  }
 },
 "nbformat": 4,
 "nbformat_minor": 1
}
